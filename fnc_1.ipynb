{
  "nbformat": 4,
  "nbformat_minor": 0,
  "metadata": {
    "colab": {
      "name": "fnc-1.ipynb",
      "provenance": [],
      "authorship_tag": "ABX9TyPctnmFSAJER+2p9U2SZh+E",
      "include_colab_link": true
    },
    "kernelspec": {
      "name": "python3",
      "display_name": "Python 3"
    },
    "accelerator": "GPU"
  },
  "cells": [
    {
      "cell_type": "markdown",
      "metadata": {
        "id": "view-in-github",
        "colab_type": "text"
      },
      "source": [
        "<a href=\"https://colab.research.google.com/github/abinashp437/AMS/blob/master/fnc_1.ipynb\" target=\"_parent\"><img src=\"https://colab.research.google.com/assets/colab-badge.svg\" alt=\"Open In Colab\"/></a>"
      ]
    },
    {
      "cell_type": "markdown",
      "metadata": {
        "id": "GVz8spU4F7Yi"
      },
      "source": [
        "**Exploration and Preprocess**"
      ]
    },
    {
      "cell_type": "code",
      "metadata": {
        "id": "MX4Q_bwZ4PBU"
      },
      "source": [
        "import pandas as pd"
      ],
      "execution_count": null,
      "outputs": []
    },
    {
      "cell_type": "code",
      "metadata": {
        "id": "3Ws9JUq_4TbO"
      },
      "source": [
        "body_url = \"https://raw.githubusercontent.com/FakeNewsChallenge/fnc-1/master/train_bodies.csv\"\n",
        "body = pd.read_csv(body_url)"
      ],
      "execution_count": null,
      "outputs": []
    },
    {
      "cell_type": "code",
      "metadata": {
        "id": "ItH4AA7e4WWc"
      },
      "source": [
        "stance_url = \"https://raw.githubusercontent.com/FakeNewsChallenge/fnc-1/master/train_stances.csv\"\n",
        "stance = pd.read_csv(stance_url)"
      ],
      "execution_count": null,
      "outputs": []
    },
    {
      "cell_type": "code",
      "metadata": {
        "id": "qCenGeQS4hNa"
      },
      "source": [
        "print(body.shape)\n",
        "print(stance.shape)"
      ],
      "execution_count": null,
      "outputs": []
    },
    {
      "cell_type": "code",
      "metadata": {
        "id": "_VwB_RKm4rsA"
      },
      "source": [
        "body.head()"
      ],
      "execution_count": null,
      "outputs": []
    },
    {
      "cell_type": "code",
      "metadata": {
        "id": "gYGjOJSF4xDk"
      },
      "source": [
        "stance.head()"
      ],
      "execution_count": null,
      "outputs": []
    },
    {
      "cell_type": "code",
      "metadata": {
        "id": "kuUUvao440HT"
      },
      "source": [
        "len(body['Body ID'].unique())"
      ],
      "execution_count": null,
      "outputs": []
    },
    {
      "cell_type": "code",
      "metadata": {
        "id": "ur-c2eVb5TeF"
      },
      "source": [
        "len(stance['Body ID'].unique())"
      ],
      "execution_count": null,
      "outputs": []
    },
    {
      "cell_type": "code",
      "metadata": {
        "id": "DJMyQydW5g5r"
      },
      "source": [
        "stance['Body ID'].value_counts()"
      ],
      "execution_count": null,
      "outputs": []
    },
    {
      "cell_type": "markdown",
      "metadata": {
        "id": "v_IZlIJRFzRM"
      },
      "source": [
        "ordering the stance w.r.t. Body ID"
      ]
    },
    {
      "cell_type": "code",
      "metadata": {
        "id": "QaOMEhXE5ufr"
      },
      "source": [
        "stance.sort_values(['Body ID'], axis = 0, ascending = True,  inplace = True)"
      ],
      "execution_count": null,
      "outputs": []
    },
    {
      "cell_type": "code",
      "metadata": {
        "id": "7vUfgFEW8DWY"
      },
      "source": [
        "stance"
      ],
      "execution_count": null,
      "outputs": []
    },
    {
      "cell_type": "code",
      "metadata": {
        "id": "ZoNiowI2-LP-"
      },
      "source": [
        "stance['Stance'].isnull().value_counts()"
      ],
      "execution_count": null,
      "outputs": []
    },
    {
      "cell_type": "markdown",
      "metadata": {
        "id": "xEw-NsFCG_FT"
      },
      "source": [
        "trimming the  length of article bodies and stances to 50 and 20"
      ]
    },
    {
      "cell_type": "code",
      "metadata": {
        "id": "bM6B_WaiG4Dx"
      },
      "source": [
        "for art in body['articleBody']:\n",
        "  body['articleBody'] = body['articleBody'][:50]\n",
        "for stan in stance['Headline']:\n",
        "  stance['Headline'] = stance['Headline'][:20]"
      ],
      "execution_count": null,
      "outputs": []
    },
    {
      "cell_type": "markdown",
      "metadata": {
        "id": "g-7dmf5TFt8F"
      },
      "source": [
        "case insensitive"
      ]
    },
    {
      "cell_type": "code",
      "metadata": {
        "id": "EJ6j5Z9lLidW"
      },
      "source": [
        "for art in body['articleBody']:\n",
        "  body['articleBody'] = body['articleBody'].str.lower()\n",
        "for stan in stance['Headline']:\n",
        "  stance['Headline'] = stance['Headline'].str.lower()"
      ],
      "execution_count": null,
      "outputs": []
    },
    {
      "cell_type": "code",
      "metadata": {
        "id": "P6ZHG9JRFHz3"
      },
      "source": [
        "body.head()"
      ],
      "execution_count": null,
      "outputs": []
    },
    {
      "cell_type": "code",
      "metadata": {
        "id": "IJgp70IoaiVU"
      },
      "source": [
        "stance.head()"
      ],
      "execution_count": null,
      "outputs": []
    },
    {
      "cell_type": "code",
      "metadata": {
        "id": "5mvzXK7aaqwP"
      },
      "source": [
        "body['articleBody'][0] "
      ],
      "execution_count": null,
      "outputs": []
    },
    {
      "cell_type": "code",
      "metadata": {
        "id": "ahcbYtvcjzRl"
      },
      "source": [
        ""
      ],
      "execution_count": null,
      "outputs": []
    }
  ]
}